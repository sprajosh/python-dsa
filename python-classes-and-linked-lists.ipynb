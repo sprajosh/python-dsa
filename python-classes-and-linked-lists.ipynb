{
 "cells": [
  {
   "cell_type": "markdown",
   "id": "banned-tissue",
   "metadata": {},
   "source": [
    "# Introduction to Python Classes and Linked Lists\n",
    "\n",
    "### Part 2 of \"Data Structures and Algorithms in Python\"\n",
    "\n",
    "[Data Structures and Algorithms in Python](https://pythondsa.com) is beginner-friendly introduction to common data structures (linked lists, stacks, queues, graphs) and algorithms (search, sorting, recursion, dynamic programming) in Python, designed to help you prepare for coding interviews and assessments. Check out the full series here:\n",
    "\n",
    "1. [Binary Search and Complexity Analysis](https://jovian.ai/aakashns/python-binary-search)\n",
    "2. [Python Classes and Linked Lists](https://jovian.ai/aakashns/python-classes-and-linked-lists)\n",
    "3. Arrays, Stacks, Queues and Strings (coming soon)\n",
    "4. Binary Search Trees and Hash Tables (coming soon)\n",
    "5. Insertion Sort, Merge Sort and Divide-and-Conquer (coming soon)\n",
    "6. Quicksort, Partitions and Average-case Complexity (coming soon)\n",
    "7. Recursion, Backtracking and Dynamic Programming (coming soon)\n",
    "8. Knapsack, Subsequence and Matrix Problems (coming soon)\n",
    "9. Graphs, Breadth-First Search and Depth-First Search (coming soon)\n",
    "10. Shortest Paths, Spanning Trees & Topological Sorting (coming soon)\n",
    "11. Disjoint Sets and the Union Find Algorithm (coming soon)\n",
    "12. Interview Questions, Tips & Practical Advice (coming soon)\n",
    "\n"
   ]
  },
  {
   "cell_type": "markdown",
   "id": "defined-range",
   "metadata": {},
   "source": [
    "## How to Run the Code\n",
    "\n",
    "The best way to learn the material is to execute the code and experiment with it yourself. This tutorial is an executable [Jupyter notebook](https://jupyter.org). You can _run_ this tutorial and experiment with the code examples in a couple of ways: *using free online resources* (recommended) or *on your computer*.\n",
    "\n",
    "#### Option 1: Running using free online resources (1-click, recommended)\n",
    "\n",
    "The easiest way to start executing the code is to click the **Run** button at the top of this page and select **Run on Binder**. You can also select \"Run on Colab\" or \"Run on Kaggle\", but you'll need to create an account on [Google Colab](https://colab.research.google.com) or [Kaggle](https://kaggle.com) to use these platforms.\n",
    "\n",
    "\n",
    "#### Option 2: Running on your computer locally\n",
    "\n",
    "To run the code on your computer locally, you'll need to set up [Python](https://www.python.org), download the notebook and install the required libraries. We recommend using the [Conda](https://docs.conda.io/projects/conda/en/latest/user-guide/install/) distribution of Python. Click the **Run** button at the top of this page, select the **Run Locally** option, and follow the instructions.\n",
    "\n",
    ">  **Jupyter Notebooks**: This notebook is made of _cells_. Each cell can contain code written in Python or explanations in plain English. You can execute code cells and view the results instantly within the notebook. Jupyter is a powerful platform for experimentation and analysis. Don't be afraid to mess around with the code & break things - you'll learn a lot by encountering and fixing errors. You can use the \"Kernel > Restart & Clear Output\" menu option to clear all outputs and start again from the top."
   ]
  },
  {
   "cell_type": "markdown",
   "id": "eligible-kuwait",
   "metadata": {},
   "source": [
    "## Problem\n",
    "\n",
    "In this notebook, we'll focus our discussion on the following problem:\n",
    "\n",
    "> **QUESTION**: Write a function to reverse a linked list\n",
    "\n",
    "Before we answer this question, we need to answer:\n",
    "\n",
    "- What do we mean by linked list? \n",
    "- How do we create a linked list in Python?\n",
    "- How do we store numbers in a linked list?\n",
    "- How do we retrieve numbers in a linked list\n"
   ]
  },
  {
   "cell_type": "code",
   "execution_count": 2,
   "id": "resident-weather",
   "metadata": {},
   "outputs": [],
   "source": [
    "!pip install jovian --upgrade --quiet"
   ]
  },
  {
   "cell_type": "code",
   "execution_count": 3,
   "id": "quantitative-dream",
   "metadata": {},
   "outputs": [],
   "source": [
    "import jovian"
   ]
  },
  {
   "cell_type": "code",
   "execution_count": 5,
   "id": "available-humor",
   "metadata": {},
   "outputs": [
    {
     "data": {
      "application/javascript": [
       "window.require && require([\"base/js/namespace\"],function(Jupyter){Jupyter.notebook.save_checkpoint()})"
      ],
      "text/plain": [
       "<IPython.core.display.Javascript object>"
      ]
     },
     "metadata": {},
     "output_type": "display_data"
    },
    {
     "name": "stdout",
     "output_type": "stream",
     "text": [
      "[jovian] Attempting to save notebook..\u001b[0m\n",
      "[jovian] Updating notebook \"aakashns/python-classes-and-linked-lists\" on https://jovian.ai/\u001b[0m\n",
      "[jovian] Uploading notebook..\u001b[0m\n",
      "[jovian] Capturing environment..\u001b[0m\n",
      "[jovian] Committed successfully! https://jovian.ai/aakashns/python-classes-and-linked-lists\u001b[0m\n"
     ]
    },
    {
     "data": {
      "text/plain": [
       "'https://jovian.ai/aakashns/python-classes-and-linked-lists'"
      ]
     },
     "execution_count": 5,
     "metadata": {},
     "output_type": "execute_result"
    }
   ],
   "source": [
    "jovian.commit()"
   ]
  },
  {
   "cell_type": "markdown",
   "id": "prime-lucas",
   "metadata": {},
   "source": [
    "## Linked List\n",
    "\n",
    "A linked list is a _data structure_ used for storing a sequence of elements. It's data with some structure (the sequence).\n",
    "\n",
    "![](https://cdn.programiz.com/sites/tutorial2program/files/linked-list-concept_0.png)\n",
    "\n",
    "We'll implement linked lists which support the following operations:\n",
    "\n",
    "- Create a list with given elements\n",
    "- Display the elements in a list\n",
    "- Find the number of elements in a list\n",
    "- Retrieve the element at a given position\n",
    "- Add or remove element(s)\n",
    "- (can you think of any more?)"
   ]
  },
  {
   "cell_type": "markdown",
   "id": "heard-hungary",
   "metadata": {},
   "source": [
    "### A Quick Primer on Classes in Python\n",
    "\n",
    "Let's create a class for it. A class is a blueprint for creating objects. "
   ]
  },
  {
   "cell_type": "code",
   "execution_count": 17,
   "id": "administrative-spencer",
   "metadata": {},
   "outputs": [],
   "source": [
    "class Node():\n",
    "    pass"
   ]
  },
  {
   "cell_type": "markdown",
   "id": "pressing-cursor",
   "metadata": {},
   "source": [
    "We can create an object with nothing in it."
   ]
  },
  {
   "cell_type": "code",
   "execution_count": 24,
   "id": "ignored-hearing",
   "metadata": {},
   "outputs": [
    {
     "data": {
      "text/plain": [
       "<__main__.Node at 0x7f904a0fdc88>"
      ]
     },
     "execution_count": 24,
     "metadata": {},
     "output_type": "execute_result"
    }
   ],
   "source": [
    "Node()"
   ]
  },
  {
   "cell_type": "markdown",
   "id": "future-structure",
   "metadata": {},
   "source": [
    "We just created an object of the class `Node`. However, we have to way to access the object. We can do so by creating a variable."
   ]
  },
  {
   "cell_type": "code",
   "execution_count": 18,
   "id": "driven-separate",
   "metadata": {},
   "outputs": [],
   "source": [
    "node1 = Node()"
   ]
  },
  {
   "cell_type": "markdown",
   "id": "helpful-roberts",
   "metadata": {},
   "source": [
    "The *variable* `node1` holds a reference the object, and can be used to retrieve the object."
   ]
  },
  {
   "cell_type": "code",
   "execution_count": 19,
   "id": "humanitarian-wireless",
   "metadata": {},
   "outputs": [
    {
     "data": {
      "text/plain": [
       "<__main__.Node at 0x7f904a0fda58>"
      ]
     },
     "execution_count": 19,
     "metadata": {},
     "output_type": "execute_result"
    }
   ],
   "source": [
    "node1"
   ]
  },
  {
   "cell_type": "markdown",
   "id": "ready-tours",
   "metadata": {},
   "source": [
    "When we call the `Node()` again, it creates a new object."
   ]
  },
  {
   "cell_type": "code",
   "execution_count": 22,
   "id": "mature-reflection",
   "metadata": {},
   "outputs": [],
   "source": [
    "node2 = Node()"
   ]
  },
  {
   "cell_type": "code",
   "execution_count": 23,
   "id": "naval-ocean",
   "metadata": {
    "scrolled": true
   },
   "outputs": [
    {
     "data": {
      "text/plain": [
       "<__main__.Node at 0x7f904a0fda90>"
      ]
     },
     "execution_count": 23,
     "metadata": {},
     "output_type": "execute_result"
    }
   ],
   "source": [
    "node2"
   ]
  },
  {
   "cell_type": "markdown",
   "id": "tamil-genealogy",
   "metadata": {},
   "source": [
    "You can tell that the objects are different because they are at different addresses in the RAM (more on that later)."
   ]
  },
  {
   "cell_type": "markdown",
   "id": "acknowledged-senate",
   "metadata": {},
   "source": [
    "We can have multiple variables pointing to the same object."
   ]
  },
  {
   "cell_type": "code",
   "execution_count": 27,
   "id": "fabulous-settle",
   "metadata": {},
   "outputs": [],
   "source": [
    "node3 = node1"
   ]
  },
  {
   "cell_type": "code",
   "execution_count": 29,
   "id": "seven-religion",
   "metadata": {},
   "outputs": [
    {
     "data": {
      "text/plain": [
       "<__main__.Node at 0x7f904a0fda58>"
      ]
     },
     "execution_count": 29,
     "metadata": {},
     "output_type": "execute_result"
    }
   ],
   "source": [
    "node3"
   ]
  },
  {
   "cell_type": "markdown",
   "id": "possible-petroleum",
   "metadata": {},
   "source": [
    "Our object isn't doing much. Let's give it the ability to store a value. First, we'll store the constant value 0. We can do this using a *constructor*."
   ]
  },
  {
   "cell_type": "code",
   "execution_count": 41,
   "id": "stylish-leonard",
   "metadata": {},
   "outputs": [],
   "source": [
    "class Node():\n",
    "    def __init__(self):\n",
    "        self.data = 0"
   ]
  },
  {
   "cell_type": "markdown",
   "id": "tired-disclaimer",
   "metadata": {},
   "source": [
    "Two things to note:\n",
    "* The double underscores\n",
    "* The self (a replacement for `this`)\n",
    "* `self.data` creates a property called. We can name a property anything we wish (`val`, `number`, `the_thing_inside` etc. )"
   ]
  },
  {
   "cell_type": "code",
   "execution_count": 42,
   "id": "timely-webmaster",
   "metadata": {},
   "outputs": [],
   "source": [
    "node4 = Node()"
   ]
  },
  {
   "cell_type": "markdown",
   "id": "iraqi-destination",
   "metadata": {},
   "source": [
    "So internally what's happening is that Python first creates an empty object, stores the reference to the empty object in an temporary variable called `self`, calls the `__init__` function with `self` as the argument, which then sets the property `data` on the created object with the value 0."
   ]
  },
  {
   "cell_type": "code",
   "execution_count": 44,
   "id": "automatic-sodium",
   "metadata": {},
   "outputs": [
    {
     "data": {
      "text/plain": [
       "0"
      ]
     },
     "execution_count": 44,
     "metadata": {},
     "output_type": "execute_result"
    }
   ],
   "source": [
    "node4.data"
   ]
  },
  {
   "cell_type": "markdown",
   "id": "uniform-sentence",
   "metadata": {},
   "source": [
    "And we can change the value inside the variable."
   ]
  },
  {
   "cell_type": "code",
   "execution_count": 47,
   "id": "liked-dating",
   "metadata": {},
   "outputs": [],
   "source": [
    "node4.data = 10"
   ]
  },
  {
   "cell_type": "code",
   "execution_count": 48,
   "id": "collected-entrance",
   "metadata": {},
   "outputs": [
    {
     "data": {
      "text/plain": [
       "10"
      ]
     },
     "execution_count": 48,
     "metadata": {},
     "output_type": "execute_result"
    }
   ],
   "source": [
    "node4.data"
   ]
  },
  {
   "cell_type": "markdown",
   "id": "tutorial-hurricane",
   "metadata": {},
   "source": [
    "Let's create nodes with the values 2, 3 and 5"
   ]
  },
  {
   "cell_type": "code",
   "execution_count": 49,
   "id": "deluxe-desktop",
   "metadata": {},
   "outputs": [],
   "source": [
    "node1 = Node()\n",
    "node1.data = 2"
   ]
  },
  {
   "cell_type": "code",
   "execution_count": 50,
   "id": "friendly-raising",
   "metadata": {},
   "outputs": [],
   "source": [
    "node2 = Node()\n",
    "node2.data = 3"
   ]
  },
  {
   "cell_type": "code",
   "execution_count": 51,
   "id": "dated-frost",
   "metadata": {},
   "outputs": [],
   "source": [
    "node3 = Node()\n",
    "node3.data = 5"
   ]
  },
  {
   "cell_type": "code",
   "execution_count": 52,
   "id": "interpreted-steps",
   "metadata": {},
   "outputs": [
    {
     "data": {
      "text/plain": [
       "(2, 3, 5)"
      ]
     },
     "execution_count": 52,
     "metadata": {},
     "output_type": "execute_result"
    }
   ],
   "source": [
    "node1.data, node2.data, node3.data"
   ]
  },
  {
   "cell_type": "markdown",
   "id": "vital-watts",
   "metadata": {},
   "source": [
    "While this is OK, there's an easier way to do it."
   ]
  },
  {
   "cell_type": "code",
   "execution_count": 73,
   "id": "narrow-missile",
   "metadata": {},
   "outputs": [],
   "source": [
    "class Node():\n",
    "    def __init__(self, a_number):\n",
    "        self.data = a_number\n",
    "        self.next = None"
   ]
  },
  {
   "cell_type": "code",
   "execution_count": 74,
   "id": "falling-setup",
   "metadata": {},
   "outputs": [],
   "source": [
    "node1 = Node(2)\n",
    "node2 = Node(3)\n",
    "node3 = Node(5)"
   ]
  },
  {
   "cell_type": "code",
   "execution_count": 75,
   "id": "typical-anniversary",
   "metadata": {},
   "outputs": [
    {
     "data": {
      "text/plain": [
       "(2, 3, 5)"
      ]
     },
     "execution_count": 75,
     "metadata": {},
     "output_type": "execute_result"
    }
   ],
   "source": [
    "node1.data, node2.data, node3.data"
   ]
  },
  {
   "cell_type": "markdown",
   "id": "double-adjustment",
   "metadata": {},
   "source": [
    "Now we are ready to define a class for our Linked list."
   ]
  },
  {
   "cell_type": "code",
   "execution_count": 76,
   "id": "aware-track",
   "metadata": {},
   "outputs": [],
   "source": [
    "class LinkedList():\n",
    "    def __init__(self):\n",
    "        self.head = None\n"
   ]
  },
  {
   "cell_type": "code",
   "execution_count": 77,
   "id": "entire-value",
   "metadata": {},
   "outputs": [],
   "source": [
    "list1 = LinkedList()"
   ]
  },
  {
   "cell_type": "code",
   "execution_count": 78,
   "id": "competent-batch",
   "metadata": {},
   "outputs": [],
   "source": [
    "list1.head = Node(2)"
   ]
  },
  {
   "cell_type": "code",
   "execution_count": 79,
   "id": "integrated-damages",
   "metadata": {},
   "outputs": [],
   "source": [
    "list1.head.next = Node(3)"
   ]
  },
  {
   "cell_type": "code",
   "execution_count": 80,
   "id": "accepting-correlation",
   "metadata": {},
   "outputs": [],
   "source": [
    "list1.head.next.next = Node(4)"
   ]
  },
  {
   "cell_type": "code",
   "execution_count": 81,
   "id": "given-quarter",
   "metadata": {},
   "outputs": [
    {
     "data": {
      "text/plain": [
       "(2, 3, 4)"
      ]
     },
     "execution_count": 81,
     "metadata": {},
     "output_type": "execute_result"
    }
   ],
   "source": [
    "list1.head.data, list1.head.next.data, list1.head.next.next.data"
   ]
  },
  {
   "cell_type": "markdown",
   "id": "extensive-freedom",
   "metadata": {},
   "source": [
    "![](https://cdn.programiz.com/sites/tutorial2program/files/linked-list-concept_0.png)"
   ]
  },
  {
   "cell_type": "code",
   "execution_count": 85,
   "id": "adaptive-stuart",
   "metadata": {},
   "outputs": [
    {
     "data": {
      "text/plain": [
       "(<__main__.Node at 0x7f904a177390>,\n",
       " <__main__.Node at 0x7f904a177438>,\n",
       " <__main__.Node at 0x7f904a1774e0>,\n",
       " None)"
      ]
     },
     "execution_count": 85,
     "metadata": {},
     "output_type": "execute_result"
    }
   ],
   "source": [
    "list1.head, list1.head.next, list1.head.next.next, list1.head.next.next.next"
   ]
  },
  {
   "cell_type": "markdown",
   "id": "sunrise-focus",
   "metadata": {},
   "source": [
    "While it's OK to set value like this, we can add a couple of arguments."
   ]
  },
  {
   "cell_type": "code",
   "execution_count": 92,
   "id": "defensive-monitoring",
   "metadata": {},
   "outputs": [],
   "source": [
    "class LinkedList():\n",
    "    def __init__(self):\n",
    "        self.head = None\n",
    "        \n",
    "    def append(self, value):\n",
    "        if self.head is None:\n",
    "            self.head = Node(value)\n",
    "        else:\n",
    "            current_node = self.head\n",
    "            while current_node.next is not None:\n",
    "                current_node = current_node.next\n",
    "            current_node.next = Node(value)"
   ]
  },
  {
   "cell_type": "code",
   "execution_count": 95,
   "id": "streaming-bunny",
   "metadata": {},
   "outputs": [],
   "source": [
    "list2 = LinkedList()\n",
    "list2.append(2)\n",
    "list2.append(3)\n",
    "list2.append(5)"
   ]
  },
  {
   "cell_type": "code",
   "execution_count": 96,
   "id": "novel-treasury",
   "metadata": {},
   "outputs": [
    {
     "data": {
      "text/plain": [
       "(2, 3, 5)"
      ]
     },
     "execution_count": 96,
     "metadata": {},
     "output_type": "execute_result"
    }
   ],
   "source": [
    "list2.head.data, list2.head.next.data, list2.head.next.next.data"
   ]
  },
  {
   "cell_type": "markdown",
   "id": "constitutional-edinburgh",
   "metadata": {},
   "source": [
    "Next, let's add a method to print the value in a list."
   ]
  },
  {
   "cell_type": "code",
   "execution_count": 106,
   "id": "involved-helena",
   "metadata": {},
   "outputs": [],
   "source": [
    "class LinkedList():\n",
    "    def __init__(self):\n",
    "        self.head = None\n",
    "        \n",
    "    def append(self, value):\n",
    "        if self.head is None:\n",
    "            self.head = Node(value)\n",
    "        else:\n",
    "            current_node = self.head\n",
    "            while current_node.next is not None:\n",
    "                current_node = current_node.next\n",
    "            current_node.next = Node(value)\n",
    "            \n",
    "    def show_elements(self):\n",
    "        current = self.head\n",
    "        while current is not None:\n",
    "            print(current.data)\n",
    "            current = current.next"
   ]
  },
  {
   "cell_type": "code",
   "execution_count": 107,
   "id": "usual-vacation",
   "metadata": {},
   "outputs": [],
   "source": [
    "list2 = LinkedList()\n",
    "list2.append(2)\n",
    "list2.append(3)\n",
    "list2.append(5)"
   ]
  },
  {
   "cell_type": "code",
   "execution_count": 108,
   "id": "rolled-sierra",
   "metadata": {},
   "outputs": [
    {
     "name": "stdout",
     "output_type": "stream",
     "text": [
      "2\n",
      "3\n",
      "5\n"
     ]
    }
   ],
   "source": [
    "list2.show_elements()"
   ]
  },
  {
   "cell_type": "markdown",
   "id": "finnish-marriage",
   "metadata": {},
   "source": [
    "Let's add a couple of more functions: `length` and `get_element` to get an element at a specific position."
   ]
  },
  {
   "cell_type": "code",
   "execution_count": 114,
   "id": "enclosed-warrior",
   "metadata": {},
   "outputs": [],
   "source": [
    "class LinkedList():\n",
    "    def __init__(self):\n",
    "        self.head = None\n",
    "        \n",
    "    def append(self, value):\n",
    "        if self.head is None:\n",
    "            self.head = Node(value)\n",
    "        else:\n",
    "            current_node = self.head\n",
    "            while current_node.next is not None:\n",
    "                current_node = current_node.next\n",
    "            current_node.next = Node(value)\n",
    "            \n",
    "    def show_elements(self):\n",
    "        current = self.head\n",
    "        while current is not None:\n",
    "            print(current.data)\n",
    "            current = current.next\n",
    "            \n",
    "    def length(self):\n",
    "        result = 0\n",
    "        current = self.head\n",
    "        while current is not None:\n",
    "            result += 1\n",
    "            current = current.next\n",
    "        return result\n",
    "            \n",
    "    def get_element(self, position):\n",
    "        i = 0\n",
    "        current = self.head\n",
    "        while current is not None:\n",
    "            if i == position:\n",
    "                return current.data\n",
    "            current = current.next\n",
    "            i += 1\n",
    "        return None"
   ]
  },
  {
   "cell_type": "code",
   "execution_count": 115,
   "id": "previous-incentive",
   "metadata": {},
   "outputs": [],
   "source": [
    "list2 = LinkedList()\n",
    "list2.append(2)\n",
    "list2.append(3)\n",
    "list2.append(5)\n",
    "list2.append(9)"
   ]
  },
  {
   "cell_type": "code",
   "execution_count": 116,
   "id": "bizarre-syndication",
   "metadata": {},
   "outputs": [
    {
     "data": {
      "text/plain": [
       "4"
      ]
     },
     "execution_count": 116,
     "metadata": {},
     "output_type": "execute_result"
    }
   ],
   "source": [
    "list2.length()"
   ]
  },
  {
   "cell_type": "code",
   "execution_count": 117,
   "id": "active-bracket",
   "metadata": {},
   "outputs": [
    {
     "data": {
      "text/plain": [
       "2"
      ]
     },
     "execution_count": 117,
     "metadata": {},
     "output_type": "execute_result"
    }
   ],
   "source": [
    "list2.get_element(0)"
   ]
  },
  {
   "cell_type": "code",
   "execution_count": 118,
   "id": "closing-album",
   "metadata": {},
   "outputs": [
    {
     "data": {
      "text/plain": [
       "3"
      ]
     },
     "execution_count": 118,
     "metadata": {},
     "output_type": "execute_result"
    }
   ],
   "source": [
    "list2.get_element(1)"
   ]
  },
  {
   "cell_type": "code",
   "execution_count": 119,
   "id": "broken-banner",
   "metadata": {},
   "outputs": [
    {
     "data": {
      "text/plain": [
       "5"
      ]
     },
     "execution_count": 119,
     "metadata": {},
     "output_type": "execute_result"
    }
   ],
   "source": [
    "list2.get_element(2)"
   ]
  },
  {
   "cell_type": "code",
   "execution_count": 120,
   "id": "entitled-houston",
   "metadata": {},
   "outputs": [
    {
     "data": {
      "text/plain": [
       "9"
      ]
     },
     "execution_count": 120,
     "metadata": {},
     "output_type": "execute_result"
    }
   ],
   "source": [
    "list2.get_element(3)"
   ]
  },
  {
   "cell_type": "markdown",
   "id": "surface-antenna",
   "metadata": {},
   "source": [
    "Given a list of size `N`, the the number of statements executed for each of the steps:\n",
    "\n",
    "- `append`: N steps\n",
    "- `length`: N steps\n",
    "- `get_element`: N steps\n",
    "- `show_element`: N steps\n"
   ]
  },
  {
   "cell_type": "markdown",
   "id": "homeless-prisoner",
   "metadata": {},
   "source": [
    "## Reversing a Linked List - Solution\n",
    "\n",
    "Here's a simple program to reverse a linked list."
   ]
  },
  {
   "cell_type": "code",
   "execution_count": 134,
   "id": "dedicated-millennium",
   "metadata": {},
   "outputs": [],
   "source": [
    "def reverse(l):\n",
    "    if l.head is None:\n",
    "        return\n",
    "    \n",
    "    current_node = l.head\n",
    "    prev_node = None\n",
    "    \n",
    "    while current_node is not None:\n",
    "        # Track the next node\n",
    "        next_node = current_node.next\n",
    "        \n",
    "        # Modify the current node\n",
    "        current_node.next = prev_node\n",
    "        \n",
    "        # Update prev and current\n",
    "        prev_node = current_node\n",
    "        current_node = next_node\n",
    "        \n",
    "    l.head = prev_node"
   ]
  },
  {
   "cell_type": "code",
   "execution_count": 135,
   "id": "typical-amino",
   "metadata": {},
   "outputs": [],
   "source": [
    "list2 = LinkedList()\n",
    "list2.append(2)\n",
    "list2.append(3)\n",
    "list2.append(5)\n",
    "list2.append(9)"
   ]
  },
  {
   "cell_type": "code",
   "execution_count": 136,
   "id": "stunning-creek",
   "metadata": {},
   "outputs": [],
   "source": [
    "reverse(list2)"
   ]
  },
  {
   "cell_type": "code",
   "execution_count": 137,
   "id": "several-tyler",
   "metadata": {},
   "outputs": [
    {
     "name": "stdout",
     "output_type": "stream",
     "text": [
      "9\n",
      "5\n",
      "3\n",
      "2\n"
     ]
    }
   ],
   "source": [
    "list2.show_elements()"
   ]
  },
  {
   "cell_type": "markdown",
   "id": "activated-gentleman",
   "metadata": {},
   "source": [
    "That's how you reverse a linked list!"
   ]
  },
  {
   "cell_type": "code",
   "execution_count": 6,
   "id": "excess-transition",
   "metadata": {},
   "outputs": [],
   "source": [
    "import jovian"
   ]
  },
  {
   "cell_type": "code",
   "execution_count": null,
   "id": "comfortable-binary",
   "metadata": {},
   "outputs": [
    {
     "data": {
      "application/javascript": [
       "window.require && require([\"base/js/namespace\"],function(Jupyter){Jupyter.notebook.save_checkpoint()})"
      ],
      "text/plain": [
       "<IPython.core.display.Javascript object>"
      ]
     },
     "metadata": {},
     "output_type": "display_data"
    },
    {
     "name": "stdout",
     "output_type": "stream",
     "text": [
      "[jovian] Attempting to save notebook..\u001b[0m\n"
     ]
    }
   ],
   "source": [
    "jovian.commit()"
   ]
  },
  {
   "cell_type": "code",
   "execution_count": null,
   "id": "logical-marketplace",
   "metadata": {},
   "outputs": [],
   "source": []
  }
 ],
 "metadata": {
  "language_info": {
   "codemirror_mode": {
    "name": "ipython",
    "version": 3
   },
   "file_extension": ".py",
   "mimetype": "text/x-python",
   "name": "python",
   "nbconvert_exporter": "python",
   "pygments_lexer": "ipython3",
   "version": "3.6.12"
  }
 },
 "nbformat": 4,
 "nbformat_minor": 5
}